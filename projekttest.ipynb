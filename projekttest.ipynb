{
 "cells": [
  {
   "cell_type": "code",
   "execution_count": 46,
   "metadata": {
    "colab": {
     "base_uri": "https://localhost:8080/",
     "height": 53
    },
    "colab_type": "code",
    "id": "pcgvn4B0uzIC",
    "outputId": "395633c0-9e48-48fd-8706-506a6b870059"
   },
   "outputs": [
    {
     "name": "stdout",
     "output_type": "stream",
     "text": [
      "Zumi Initialised\n",
      "Camera Initialised\n"
     ]
    }
   ],
   "source": [
    "# Run if not on zumi\n",
    "from PIL import Image\n",
    "class Zumi(object):\n",
    "    def __init__(self):\n",
    "        print(\"Zumi Initialised\")\n",
    "    \n",
    "    def forward(self):\n",
    "        print(\"Zumi Forward\")\n",
    "        \n",
    "    def reverse(self):\n",
    "        print(\"Zumi Reverse\")\n",
    "        \n",
    "    def turn_left(self, degree = 90, time = 2):\n",
    "        print(\"Zumi Turn Left \", degree, \" degrees\")\n",
    "        \n",
    "    def turn_right(self, degree = 90, time = 2):\n",
    "        print(\"Zumi Turn Right \", degree, \" degrees\")\n",
    "        \n",
    "    def get_all_IR_data(self):\n",
    "        return np.random.randint(1,200, size=(6))\n",
    "    \n",
    "    def all_lights_on(self):\n",
    "        print(\"Light set on!\")\n",
    "\n",
    "    def all_lights_off(self):\n",
    "        print(\"Light set off!\")\n",
    "        \n",
    "    def get_battery_percent(self):\n",
    "        return np.random.randint(70,100)\n",
    "    \n",
    "class Camera(object):\n",
    "    def __init__(self):\n",
    "        print(\"Camera Initialised\")\n",
    "        \n",
    "    def capture(self):\n",
    "        image = Image.open(\"images/\"+random.choice(os.listdir(\"images\")))\n",
    "        return np.asarray(image)\n",
    "    \n",
    "    def clear_output(self):\n",
    "        a = 1\n",
    "\n",
    "    \n",
    "zumi = Zumi()\n",
    "camera = Camera()"
   ]
  },
  {
   "cell_type": "code",
   "execution_count": 2,
   "metadata": {
    "colab": {},
    "colab_type": "code",
    "id": "Jt1Umm4RWwmN"
   },
   "outputs": [],
   "source": [
    "from random import randint\n",
    "import math"
   ]
  },
  {
   "cell_type": "code",
   "execution_count": 3,
   "metadata": {
    "colab": {},
    "colab_type": "code",
    "id": "vKgO0iynTd_C"
   },
   "outputs": [],
   "source": [
    "def getGlobalPos():\n",
    "  return (randint(0,255),randint(0,255))"
   ]
  },
  {
   "cell_type": "code",
   "execution_count": 4,
   "metadata": {
    "colab": {},
    "colab_type": "code",
    "id": "cb41pElNXz2Y"
   },
   "outputs": [],
   "source": [
    "def getStation():\n",
    "  return (randint(0,255),randint(0,255))"
   ]
  },
  {
   "cell_type": "code",
   "execution_count": 26,
   "metadata": {},
   "outputs": [],
   "source": [
    "def getOffset(stationPos):\n",
    "    offset = (-25, 0)\n",
    "    return tuple(map(sum, zip(stationPos, offset))) "
   ]
  },
  {
   "cell_type": "code",
   "execution_count": 27,
   "metadata": {
    "colab": {},
    "colab_type": "code",
    "id": "HEp30NJAYdSj"
   },
   "outputs": [],
   "source": [
    "def getCurrentPos(lastPos):\n",
    "    drive = (randint(-10,10), randint(-10,10))\n",
    "    return tuple(map(sum, zip(lastPos, drive))) "
   ]
  },
  {
   "cell_type": "code",
   "execution_count": 28,
   "metadata": {
    "colab": {},
    "colab_type": "code",
    "id": "WTN0zxWEaViQ"
   },
   "outputs": [],
   "source": [
    "lastPos = getGlobalPos()\n",
    "currentPos = getCurrentPos(lastPos)\n",
    "stationPos = getStation()\n",
    "offsetPos = getOffset(stationPos)"
   ]
  },
  {
   "cell_type": "code",
   "execution_count": 33,
   "metadata": {},
   "outputs": [],
   "source": [
    "def toCm(pixel):\n",
    "    cm = pixel/20\n",
    "    return cm"
   ]
  },
  {
   "cell_type": "code",
   "execution_count": 29,
   "metadata": {
    "colab": {},
    "colab_type": "code",
    "id": "DeDx2Un0XfNo"
   },
   "outputs": [],
   "source": [
    "def turnDegree(lastPos, currentPos, stationPos, zumi):\n",
    "  a = math.sqrt(pow(lastPos[0]-currentPos[0],2)+pow(lastPos[1]-currentPos[1],2))\n",
    "  b = math.sqrt(pow(currentPos[0]-stationPos[0],2)+pow(currentPos[1]-stationPos[1],2))\n",
    "  c = math.sqrt(pow(lastPos[0]-stationPos[0],2)+pow(lastPos[1]-stationPos[1],2))\n",
    "\n",
    "  beta = math.degrees(math.acos((pow(a,2)+pow(b,2)-pow(c,2))/(2*a*b)))\n",
    "  beta1 = 180-beta\n",
    "\n",
    "  turningDirection = (stationPos[0]-lastPos[0])*(currentPos[1]-lastPos[1])-(stationPos[1]-lastPos[1])*(currentPos[0]-lastPos[0]) \n",
    "  if(turningDirection < 0):\n",
    "    zumi.turn_left(beta1,3)\n",
    "  elif(turningDirection > 0):\n",
    "    zumi.turn_right(beta1, 3)\n",
    "  else:\n",
    "    if(b > c):\n",
    "      zumi.turn_left(180, 3)\n",
    "    else:\n",
    "      #already in right angle to station\n",
    "      zumi.all_lights_on()\n",
    "      time.sleep(2)\n",
    "      zumi.all_lights_off()    "
   ]
  },
  {
   "cell_type": "code",
   "execution_count": 30,
   "metadata": {
    "colab": {
     "base_uri": "https://localhost:8080/",
     "height": 35
    },
    "colab_type": "code",
    "id": "c_USGABofwDU",
    "outputId": "3ae09c01-1655-43f1-b443-80ca18d741b2"
   },
   "outputs": [
    {
     "name": "stdout",
     "output_type": "stream",
     "text": [
      "Zumi Turn Right  87.68215035709687  degrees\n"
     ]
    }
   ],
   "source": [
    "turnDegree(lastPos, currentPos, offsetPos, zumi)"
   ]
  },
  {
   "cell_type": "code",
   "execution_count": 31,
   "metadata": {},
   "outputs": [
    {
     "name": "stdout",
     "output_type": "stream",
     "text": [
      "Zumi Turn Right  75.6186054089094  degrees\n"
     ]
    }
   ],
   "source": [
    "turnDegree(currentPos, offsetPos, stationPos, zumi)"
   ]
  },
  {
   "cell_type": "code",
   "execution_count": 32,
   "metadata": {
    "colab": {
     "base_uri": "https://localhost:8080/",
     "height": 269
    },
    "colab_type": "code",
    "id": "w-N1YFB6fzyv",
    "outputId": "88c6e51e-77d0-4d3a-e734-0030ee7e75d0"
   },
   "outputs": [
    {
     "data": {
      "image/png": "[encoded data removed]",
      "text/plain": [
       "<Figure size 720x720 with 1 Axes>"
      ]
     },
     "metadata": {
      "needs_background": "light"
     },
     "output_type": "display_data"
    }
   ],
   "source": [
    "import matplotlib.pyplot as plt\n",
    "\n",
    "\n",
    "plt.figure(figsize=(10,10))\n",
    "point1 = plt.scatter(lastPos[0], lastPos[1], label=\"lastPos\")\n",
    "point2 = plt.scatter(currentPos[0], currentPos[1])\n",
    "point3 = plt.scatter(offsetPos[0], offsetPos[1])\n",
    "point4 = plt.scatter(stationPos[0], stationPos[1])\n",
    "plt.legend((point1, point2, point3, point4), ('lastPos', 'currentPos', 'offsetPos', 'stationPos'))\n",
    "plt.xlim(0, 300)\n",
    "plt.ylim(0, 300)\n",
    "plt.show()"
   ]
  },
  {
   "cell_type": "code",
   "execution_count": 47,
   "metadata": {},
   "outputs": [],
   "source": [
    "import time\n",
    "\n",
    "def park():\n",
    "    zumi.turn_left(180)\n",
    "    \n",
    "    while(isLoading() == false):\n",
    "        zumi.reverse()\n",
    "      \n",
    "    print('loading')\n",
    "    while(isFull() == false):\n",
    "        print('.')\n",
    "        time.sleep(10)\n",
    "\n",
    "    zumi.forward()\n",
    "    zumi.forward()\n",
    "    zumi.turn_left()\n",
    "    zumi.forward()\n",
    "    zumi.forward()"
   ]
  },
  {
   "cell_type": "code",
   "execution_count": 48,
   "metadata": {
    "colab": {},
    "colab_type": "code",
    "id": "XJd7Nramgi1_"
   },
   "outputs": [],
   "source": [
    "def isLoading():\n",
    "    currentVoltage = zumi.get_battery_voltage()\n",
    "    \n",
    "    time.sleep(3)\n",
    "    if(zumi.get_battery_voltage() != currentVoltage):\n",
    "        return true\n",
    "    else:\n",
    "        return false"
   ]
  },
  {
   "cell_type": "code",
   "execution_count": 49,
   "metadata": {
    "colab": {},
    "colab_type": "code",
    "id": "6AmqJnpmv7jH"
   },
   "outputs": [],
   "source": [
    "def isFull():\n",
    "    if(zumi.get_battery_percent == 100):\n",
    "        return true\n",
    "    else:\n",
    "        return false"
   ]
  },
  {
   "cell_type": "code",
   "execution_count": null,
   "metadata": {},
   "outputs": [],
   "source": []
  }
 ],
 "metadata": {
  "colab": {
   "collapsed_sections": [],
   "name": "projekttest.ipynb",
   "provenance": []
  },
  "kernelspec": {
   "display_name": "Python 3",
   "language": "python",
   "name": "python3"
  },
  "language_info": {
   "codemirror_mode": {
    "name": "ipython",
    "version": 3
   },
   "file_extension": ".py",
   "mimetype": "text/x-python",
   "name": "python",
   "nbconvert_exporter": "python",
   "pygments_lexer": "ipython3",
   "version": "3.7.6"
  }
 },
 "nbformat": 4,
 "nbformat_minor": 1
}
